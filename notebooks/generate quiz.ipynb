{
 "cells": [
  {
   "cell_type": "code",
   "execution_count": 1,
   "metadata": {
    "collapsed": true,
    "deletable": true,
    "editable": true
   },
   "outputs": [],
   "source": [
    "import rdflib"
   ]
  },
  {
   "cell_type": "code",
   "execution_count": 2,
   "metadata": {
    "collapsed": true,
    "deletable": true,
    "editable": true
   },
   "outputs": [],
   "source": [
    "doremus = rdflib.URIRef(\"http://data.doremus.org/ontology\")"
   ]
  },
  {
   "cell_type": "code",
   "execution_count": 3,
   "metadata": {
    "collapsed": false,
    "deletable": true,
    "editable": true
   },
   "outputs": [
    {
     "name": "stderr",
     "output_type": "stream",
     "text": [
      "/usr/local/lib/python2.7/dist-packages/SPARQLWrapper/Wrapper.py:438: UserWarning: keepalive support not available, so the execution of this method has no effect\n",
      "  warnings.warn(\"keepalive support not available, so the execution of this method has no effect\")\n"
     ]
    }
   ],
   "source": [
    "query = \"\"\"\n",
    "SELECT ?title, ?lieu, ?date, ?event, ?performing_plan, ?expression, ?graphe \n",
    "WHERE\n",
    "{GRAPH ?graphe {\n",
    "{ SELECT DISTINCT * WHERE {      \n",
    "?event a mus:M26_Foreseen_Performance ;\n",
    "         mus:U7_foresees_place_at ?place ;\n",
    "         mus:U8_foresees_time_span / time:hasBeginning / time:inXSDDate ?date ;\n",
    "         mus:U77_foresees_performing_plan ?performing_plan .\n",
    "?place rdfs:label ?lieu .\n",
    "?performing_plan ecrm:P165_incorporates ?expression .\n",
    "?expression a efrbroo:F22_Self-Contained_Expression ;\n",
    "rdfs:label ?title .\n",
    "FILTER contains(?title,\"Symphonie fantastique\")\n",
    "}}\n",
    "UNION\n",
    "{ SELECT DISTINCT * WHERE {\n",
    "?expression rdfs:label ?title.\n",
    "?performance efrbroo:R66_included_performed_version_of ?expression ;\n",
    "             ecrm:P7_took_place_at ?place ;\n",
    "             ecrm:P4_has_time-span / time:hasBeginning / time:inXSDDate ?date.\n",
    "?place rdfs:label ?lieu .\n",
    "FILTER contains(?title,\"Symphonie fantastique\")\n",
    "}}}}\n",
    "ORDER BY ?date\n",
    "\"\"\"\n",
    "\n",
    "## dbo = Namespace('http://dbpedia.org/ontology/')\n",
    "## graph = Graph('SPARQLStore', identifier=\"http://dbpedia.org\")\n",
    "## graph.open(\"http://dbpedia.org/sparql\")\n",
    "\n",
    "# \n",
    "# http://data.doremus.org/sparql\n",
    "\n",
    "dbo = rdflib.Namespace('http://data.doremus.org/ontology')\n",
    "graph = rdflib.Graph('SPARQLStore', identifier=\"http://data.doremus.org\")\n",
    "graph.open(\"http://data.doremus.org/sparql\")\n",
    "\n",
    "#g = rdflib.Graph()"
   ]
  },
  {
   "cell_type": "code",
   "execution_count": null,
   "metadata": {
    "collapsed": true
   },
   "outputs": [],
   "source": []
  }
 ],
 "metadata": {
  "kernelspec": {
   "display_name": "Python 2",
   "language": "python",
   "name": "python2"
  },
  "language_info": {
   "codemirror_mode": {
    "name": "ipython",
    "version": 2
   },
   "file_extension": ".py",
   "mimetype": "text/x-python",
   "name": "python",
   "nbconvert_exporter": "python",
   "pygments_lexer": "ipython2",
   "version": "2.7.13"
  }
 },
 "nbformat": 4,
 "nbformat_minor": 2
}
