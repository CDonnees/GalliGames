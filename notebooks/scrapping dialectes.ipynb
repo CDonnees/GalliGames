{
 "cells": [
  {
   "cell_type": "code",
   "execution_count": 2,
   "metadata": {
    "collapsed": false,
    "deletable": true,
    "editable": true
   },
   "outputs": [],
   "source": [
    "import requests\n",
    "from bs4 import BeautifulSoup\n",
    "from selenium import webdriver"
   ]
  },
  {
   "cell_type": "code",
   "execution_count": 3,
   "metadata": {
    "collapsed": true,
    "deletable": true,
    "editable": true
   },
   "outputs": [],
   "source": [
    "entree = \"http://gallica.bnf.fr/html/enregistrements-sonores/dialectes-francais-et-francophonie\""
   ]
  },
  {
   "cell_type": "code",
   "execution_count": 4,
   "metadata": {
    "collapsed": false,
    "deletable": true,
    "editable": true
   },
   "outputs": [
    {
     "data": {
      "text/plain": [
       "<Response [200]>"
      ]
     },
     "execution_count": 4,
     "metadata": {},
     "output_type": "execute_result"
    }
   ],
   "source": [
    "page = requests.get(entree)\n",
    "\n",
    "page"
   ]
  },
  {
   "cell_type": "code",
   "execution_count": 12,
   "metadata": {
    "collapsed": false,
    "deletable": true,
    "editable": true
   },
   "outputs": [],
   "source": [
    "soupe = BeautifulSoup(page.content)\n",
    "links = soupe.find_all(\"a\")\n",
    "\n",
    "docs = [ link.attrs['href'] for link in links if 'ark:' in link.attrs['href'] ]\n",
    "collections = [ link.attrs['href'] for link in links if 'ap-' in link.attrs['href'] ]"
   ]
  },
  {
   "cell_type": "code",
   "execution_count": 8,
   "metadata": {
    "collapsed": false,
    "deletable": true,
    "editable": true
   },
   "outputs": [
    {
     "name": "stdout",
     "output_type": "stream",
     "text": [
      "10\n"
     ]
    }
   ],
   "source": [
    "print len(docs)"
   ]
  },
  {
   "cell_type": "code",
   "execution_count": 13,
   "metadata": {
    "collapsed": false,
    "deletable": true,
    "editable": true
   },
   "outputs": [
    {
     "name": "stdout",
     "output_type": "stream",
     "text": [
      "['/ark:/12148/bpt6k129138h', '/ark:/12148/bpt6k129138h', '/ark:/12148/bpt6k129115p', '/ark:/12148/bpt6k129115p', '/ark:/12148/bpt6k1291497', '/ark:/12148/bpt6k1291497', '/ark:/12148/bpt6k129212v', '/ark:/12148/bpt6k129212v', '/ark:/12148/bpt6k1292875', '/ark:/12148/bpt6k1292875']\n",
      "['/ark:/12148/bpt6k129138h', '/ark:/12148/bpt6k129138h', '/ark:/12148/bpt6k129115p', '/ark:/12148/bpt6k129115p', '/ark:/12148/bpt6k1291497', '/ark:/12148/bpt6k1291497', '/ark:/12148/bpt6k129212v', '/ark:/12148/bpt6k129212v', '/ark:/12148/bpt6k1292875', '/ark:/12148/bpt6k1292875']\n",
      "['/ark:/12148/bpt6k129138h', '/ark:/12148/bpt6k129138h', '/ark:/12148/bpt6k129115p', '/ark:/12148/bpt6k129115p', '/ark:/12148/bpt6k1291497', '/ark:/12148/bpt6k1291497', '/ark:/12148/bpt6k129212v', '/ark:/12148/bpt6k129212v', '/ark:/12148/bpt6k1292875', '/ark:/12148/bpt6k1292875']\n",
      "['/ark:/12148/bpt6k129138h', '/ark:/12148/bpt6k129138h', '/ark:/12148/bpt6k129115p', '/ark:/12148/bpt6k129115p', '/ark:/12148/bpt6k1291497', '/ark:/12148/bpt6k1291497', '/ark:/12148/bpt6k129212v', '/ark:/12148/bpt6k129212v', '/ark:/12148/bpt6k1292875', '/ark:/12148/bpt6k1292875']\n",
      "['/ark:/12148/bpt6k129138h', '/ark:/12148/bpt6k129138h', '/ark:/12148/bpt6k129115p', '/ark:/12148/bpt6k129115p', '/ark:/12148/bpt6k1291497', '/ark:/12148/bpt6k1291497', '/ark:/12148/bpt6k129212v', '/ark:/12148/bpt6k129212v', '/ark:/12148/bpt6k1292875', '/ark:/12148/bpt6k1292875']\n",
      "['/ark:/12148/bpt6k129138h', '/ark:/12148/bpt6k129138h', '/ark:/12148/bpt6k129115p', '/ark:/12148/bpt6k129115p', '/ark:/12148/bpt6k1291497', '/ark:/12148/bpt6k1291497', '/ark:/12148/bpt6k129212v', '/ark:/12148/bpt6k129212v', '/ark:/12148/bpt6k1292875', '/ark:/12148/bpt6k1292875']\n",
      "['/ark:/12148/bpt6k129138h', '/ark:/12148/bpt6k129138h', '/ark:/12148/bpt6k129115p', '/ark:/12148/bpt6k129115p', '/ark:/12148/bpt6k1291497', '/ark:/12148/bpt6k1291497', '/ark:/12148/bpt6k129212v', '/ark:/12148/bpt6k129212v', '/ark:/12148/bpt6k1292875', '/ark:/12148/bpt6k1292875']\n",
      "['/ark:/12148/bpt6k129138h', '/ark:/12148/bpt6k129138h', '/ark:/12148/bpt6k129115p', '/ark:/12148/bpt6k129115p', '/ark:/12148/bpt6k1291497', '/ark:/12148/bpt6k1291497', '/ark:/12148/bpt6k129212v', '/ark:/12148/bpt6k129212v', '/ark:/12148/bpt6k1292875', '/ark:/12148/bpt6k1292875']\n",
      "90\n"
     ]
    }
   ],
   "source": [
    "for collection in collections:\n",
    "    url = \"http://gallica.bnf.fr\"+collection\n",
    "    \n",
    "    browser = webdriver.PhantomJS()\n",
    "    browser.get(url)\n",
    "    html = browser.page_source\n",
    "    soupe = BeautifulSoup(html, 'lxml')\n",
    "    \n",
    "    #page = requests.get(url)\n",
    "\n",
    "    soupe = BeautifulSoup(page.content)\n",
    "    links = soupe.find_all(\"a\")\n",
    "    \n",
    "    # print links\n",
    "    \n",
    "    collection_docs = [ link.attrs['href'] for link in links if 'ark:' in link.attrs['href'] ]\n",
    "    \n",
    "    print collection_docs\n",
    "    \n",
    "    docs = docs + collection_docs\n",
    "    \n",
    "print len(docs)"
   ]
  },
  {
   "cell_type": "code",
   "execution_count": 14,
   "metadata": {
    "collapsed": false,
    "scrolled": true
   },
   "outputs": [
    {
     "name": "stdout",
     "output_type": "stream",
     "text": [
      "['/ark:/12148/bpt6k129138h', '/ark:/12148/bpt6k129138h', '/ark:/12148/bpt6k129115p', '/ark:/12148/bpt6k129115p', '/ark:/12148/bpt6k1291497', '/ark:/12148/bpt6k1291497', '/ark:/12148/bpt6k129212v', '/ark:/12148/bpt6k129212v', '/ark:/12148/bpt6k1292875', '/ark:/12148/bpt6k1292875', '/ark:/12148/bpt6k129138h', '/ark:/12148/bpt6k129138h', '/ark:/12148/bpt6k129115p', '/ark:/12148/bpt6k129115p', '/ark:/12148/bpt6k1291497', '/ark:/12148/bpt6k1291497', '/ark:/12148/bpt6k129212v', '/ark:/12148/bpt6k129212v', '/ark:/12148/bpt6k1292875', '/ark:/12148/bpt6k1292875', '/ark:/12148/bpt6k129138h', '/ark:/12148/bpt6k129138h', '/ark:/12148/bpt6k129115p', '/ark:/12148/bpt6k129115p', '/ark:/12148/bpt6k1291497', '/ark:/12148/bpt6k1291497', '/ark:/12148/bpt6k129212v', '/ark:/12148/bpt6k129212v', '/ark:/12148/bpt6k1292875', '/ark:/12148/bpt6k1292875', '/ark:/12148/bpt6k129138h', '/ark:/12148/bpt6k129138h', '/ark:/12148/bpt6k129115p', '/ark:/12148/bpt6k129115p', '/ark:/12148/bpt6k1291497', '/ark:/12148/bpt6k1291497', '/ark:/12148/bpt6k129212v', '/ark:/12148/bpt6k129212v', '/ark:/12148/bpt6k1292875', '/ark:/12148/bpt6k1292875', '/ark:/12148/bpt6k129138h', '/ark:/12148/bpt6k129138h', '/ark:/12148/bpt6k129115p', '/ark:/12148/bpt6k129115p', '/ark:/12148/bpt6k1291497', '/ark:/12148/bpt6k1291497', '/ark:/12148/bpt6k129212v', '/ark:/12148/bpt6k129212v', '/ark:/12148/bpt6k1292875', '/ark:/12148/bpt6k1292875', '/ark:/12148/bpt6k129138h', '/ark:/12148/bpt6k129138h', '/ark:/12148/bpt6k129115p', '/ark:/12148/bpt6k129115p', '/ark:/12148/bpt6k1291497', '/ark:/12148/bpt6k1291497', '/ark:/12148/bpt6k129212v', '/ark:/12148/bpt6k129212v', '/ark:/12148/bpt6k1292875', '/ark:/12148/bpt6k1292875', '/ark:/12148/bpt6k129138h', '/ark:/12148/bpt6k129138h', '/ark:/12148/bpt6k129115p', '/ark:/12148/bpt6k129115p', '/ark:/12148/bpt6k1291497', '/ark:/12148/bpt6k1291497', '/ark:/12148/bpt6k129212v', '/ark:/12148/bpt6k129212v', '/ark:/12148/bpt6k1292875', '/ark:/12148/bpt6k1292875', '/ark:/12148/bpt6k129138h', '/ark:/12148/bpt6k129138h', '/ark:/12148/bpt6k129115p', '/ark:/12148/bpt6k129115p', '/ark:/12148/bpt6k1291497', '/ark:/12148/bpt6k1291497', '/ark:/12148/bpt6k129212v', '/ark:/12148/bpt6k129212v', '/ark:/12148/bpt6k1292875', '/ark:/12148/bpt6k1292875', '/ark:/12148/bpt6k129138h', '/ark:/12148/bpt6k129138h', '/ark:/12148/bpt6k129115p', '/ark:/12148/bpt6k129115p', '/ark:/12148/bpt6k1291497', '/ark:/12148/bpt6k1291497', '/ark:/12148/bpt6k129212v', '/ark:/12148/bpt6k129212v', '/ark:/12148/bpt6k1292875', '/ark:/12148/bpt6k1292875']\n"
     ]
    }
   ],
   "source": [
    "print docs"
   ]
  },
  {
   "cell_type": "code",
   "execution_count": null,
   "metadata": {
    "collapsed": true
   },
   "outputs": [],
   "source": []
  }
 ],
 "metadata": {
  "kernelspec": {
   "display_name": "Python 2",
   "language": "python",
   "name": "python2"
  },
  "language_info": {
   "codemirror_mode": {
    "name": "ipython",
    "version": 2
   },
   "file_extension": ".py",
   "mimetype": "text/x-python",
   "name": "python",
   "nbconvert_exporter": "python",
   "pygments_lexer": "ipython2",
   "version": "2.7.13"
  }
 },
 "nbformat": 4,
 "nbformat_minor": 2
}
